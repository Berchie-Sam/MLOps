{
 "cells": [
  {
   "cell_type": "code",
   "execution_count": 4,
   "metadata": {},
   "outputs": [],
   "source": [
    "import mlflow\n",
    "\n",
    "mlflow.set_tracking_uri(\"http://127.0.0.1:5000\")"
   ]
  },
  {
   "cell_type": "code",
   "execution_count": 5,
   "metadata": {},
   "outputs": [
    {
     "name": "stdout",
     "output_type": "stream",
     "text": [
      "tracking URI: 'http://127.0.0.1:5000'\n"
     ]
    }
   ],
   "source": [
    "print(f\"tracking URI: '{mlflow.get_tracking_uri()}'\")"
   ]
  },
  {
   "cell_type": "code",
   "execution_count": 6,
   "metadata": {},
   "outputs": [
    {
     "data": {
      "text/plain": [
       "[<Experiment: artifact_location='file:///d:/RGT/Code/MLOps/Experiment-tracking/mlruns/2', creation_time=1704838014646, experiment_id='2', last_update_time=1704838014646, lifecycle_stage='active', name='my-cool-experiment', tags={}>,\n",
       " <Experiment: artifact_location='file:///d:/RGT/Code/MLOps/Experiment-tracking/mlruns/1', creation_time=1704485205099, experiment_id='1', last_update_time=1704485205099, lifecycle_stage='active', name='nyc-taxi-duration-prediction-experiment', tags={}>,\n",
       " <Experiment: artifact_location='file:///d:/RGT/Code/MLOps/Experiment-tracking/mlruns/0', creation_time=1704485205087, experiment_id='0', last_update_time=1704485205087, lifecycle_stage='active', name='Default', tags={}>]"
      ]
     },
     "execution_count": 6,
     "metadata": {},
     "output_type": "execute_result"
    }
   ],
   "source": [
    "mlflow.search_experiments()"
   ]
  },
  {
   "cell_type": "code",
   "execution_count": 7,
   "metadata": {},
   "outputs": [
    {
     "name": "stderr",
     "output_type": "stream",
     "text": [
      "2024/01/12 09:09:52 INFO mlflow.tracking.fluent: Experiment with name 'my-experiment-1' does not exist. Creating a new experiment.\n"
     ]
    },
    {
     "name": "stdout",
     "output_type": "stream",
     "text": [
      "default artifacts URI: 'mlflow-artifacts:/3/84a01203329d455d84e2496417dacaeb/artifacts'\n"
     ]
    }
   ],
   "source": [
    "from sklearn.linear_model import LogisticRegression\n",
    "from sklearn.datasets import load_iris  \n",
    "from sklearn.metrics import accuracy_score\n",
    "\n",
    "mlflow.set_experiment(\"my-experiment-1\")\n",
    "\n",
    "with mlflow.start_run():\n",
    "    X, y = load_iris(return_X_y=True)\n",
    "    \n",
    "    params = {\"C\": 0.1, \"random_state\": 42}\n",
    "    mlflow.log_params(params)\n",
    "    \n",
    "    lr = LogisticRegression(**params).fit(X, y)\n",
    "    y_pred = lr.predict(X)\n",
    "    mlflow.log_metric(\"accuracy\", accuracy_score(y, y_pred))\n",
    "    \n",
    "    mlflow.sklearn.log_model(lr, artifact_path=\"models\")\n",
    "    print(f\"default artifacts URI: '{mlflow.get_artifact_uri()}'\")\n",
    "    "
   ]
  },
  {
   "cell_type": "code",
   "execution_count": 8,
   "metadata": {},
   "outputs": [
    {
     "data": {
      "text/plain": [
       "[<Experiment: artifact_location='mlflow-artifacts:/3', creation_time=1705079392905, experiment_id='3', last_update_time=1705079392905, lifecycle_stage='active', name='my-experiment-1', tags={}>,\n",
       " <Experiment: artifact_location='file:///d:/RGT/Code/MLOps/Experiment-tracking/mlruns/2', creation_time=1704838014646, experiment_id='2', last_update_time=1704838014646, lifecycle_stage='active', name='my-cool-experiment', tags={}>,\n",
       " <Experiment: artifact_location='file:///d:/RGT/Code/MLOps/Experiment-tracking/mlruns/1', creation_time=1704485205099, experiment_id='1', last_update_time=1704485205099, lifecycle_stage='active', name='nyc-taxi-duration-prediction-experiment', tags={}>,\n",
       " <Experiment: artifact_location='file:///d:/RGT/Code/MLOps/Experiment-tracking/mlruns/0', creation_time=1704485205087, experiment_id='0', last_update_time=1704485205087, lifecycle_stage='active', name='Default', tags={}>]"
      ]
     },
     "execution_count": 8,
     "metadata": {},
     "output_type": "execute_result"
    }
   ],
   "source": [
    "mlflow.search_experiments()"
   ]
  },
  {
   "cell_type": "markdown",
   "metadata": {},
   "source": [
    "Interacting with the model registry"
   ]
  },
  {
   "cell_type": "code",
   "execution_count": 9,
   "metadata": {},
   "outputs": [],
   "source": [
    "from mlflow.tracking import MlflowClient\n",
    "\n",
    "client = MlflowClient(\"http://127.0.0.1:5000\")"
   ]
  },
  {
   "cell_type": "code",
   "execution_count": 10,
   "metadata": {},
   "outputs": [
    {
     "data": {
      "text/plain": [
       "[<RegisteredModel: aliases={}, creation_timestamp=1704839432557, description=('Travel duration predictor models of NYC green taxi using regressors such as '\n",
       "  'linear, lasso and ridge regression.\\n'), last_updated_timestamp=1704840974096, latest_versions=[<ModelVersion: aliases=[], creation_timestamp=1704839703859, current_stage='None', description='', last_updated_timestamp=1704839703859, name='nyc-taxi-regressor', run_id='68fd832dbbac4fb0bec9cd416b9f9b12', run_link='', source='file:///d:/RGT/Code/MLOps/Experiment-tracking/mlruns/1/68fd832dbbac4fb0bec9cd416b9f9b12/artifacts/model', status='READY', status_message='', tags={}, user_id='', version='1'>,\n",
       "  <ModelVersion: aliases=[], creation_timestamp=1704840655585, current_stage='Staging', description='The model version 3 was transitioned to Staging on 2024-01-09', last_updated_timestamp=1704843589240, name='nyc-taxi-regressor', run_id='b6fc2de739c04b4bb936cbdfff80a106', run_link='', source='file:///d:/RGT/Code/MLOps/Experiment-tracking/mlruns/1/b6fc2de739c04b4bb936cbdfff80a106/artifacts/model', status='READY', status_message='', tags={}, user_id='', version='3'>], name='nyc-taxi-regressor', tags={'model': 'ridge_regression'}>,\n",
       " <RegisteredModel: aliases={}, creation_timestamp=1704836503749, description='The NYC taxi xgboost predictor for trip duration.', last_updated_timestamp=1704844745307, latest_versions=[<ModelVersion: aliases=[], creation_timestamp=1704836503792, current_stage='Production', description='', last_updated_timestamp=1704844745307, name='nyc-taxi-xgboost', run_id='86cefba2ac7345a29c36df05a963c5f1', run_link='', source='file:///d:/RGT/Code/MLOps/Experiment-tracking/mlruns/1/86cefba2ac7345a29c36df05a963c5f1/artifacts/models_mlflow', status='READY', status_message='', tags={}, user_id='', version='1'>], name='nyc-taxi-xgboost', tags={'model': 'xgboost'}>]"
      ]
     },
     "execution_count": 10,
     "metadata": {},
     "output_type": "execute_result"
    }
   ],
   "source": [
    "client.search_registered_models()"
   ]
  },
  {
   "cell_type": "code",
   "execution_count": 13,
   "metadata": {},
   "outputs": [
    {
     "name": "stderr",
     "output_type": "stream",
     "text": [
      "Successfully registered model 'iris-classifier'.\n",
      "2024/01/12 09:18:21 INFO mlflow.store.model_registry.abstract_store: Waiting up to 300 seconds for model version to finish creation. Model name: iris-classifier, version 1\n",
      "Created version '1' of model 'iris-classifier'.\n"
     ]
    },
    {
     "data": {
      "text/plain": [
       "<ModelVersion: aliases=[], creation_timestamp=1705079901699, current_stage='None', description='', last_updated_timestamp=1705079901699, name='iris-classifier', run_id='84a01203329d455d84e2496417dacaeb', run_link='', source='mlflow-artifacts:/3/84a01203329d455d84e2496417dacaeb/artifacts/models', status='READY', status_message='', tags={}, user_id='', version='1'>"
      ]
     },
     "execution_count": 13,
     "metadata": {},
     "output_type": "execute_result"
    }
   ],
   "source": [
    "# Specify the experiment name or ID\n",
    "experiment_name_or_id = '3'\n",
    "\n",
    "# Get the run ID for the latest run in the specified experiment\n",
    "runs = mlflow.search_runs(experiment_ids=experiment_name_or_id, order_by=[\"start_time desc\"])\n",
    "run_id = runs.iloc[0]['run_id']\n",
    "\n",
    "# Register the model using the run ID\n",
    "mlflow.register_model(\n",
    "    model_uri=f\"runs:/{run_id}/models\",\n",
    "    name='iris-classifier'\n",
    ")"
   ]
  },
  {
   "cell_type": "code",
   "execution_count": null,
   "metadata": {},
   "outputs": [],
   "source": []
  }
 ],
 "metadata": {
  "kernelspec": {
   "display_name": "mlopsenv",
   "language": "python",
   "name": "mlopsenv"
  },
  "language_info": {
   "codemirror_mode": {
    "name": "ipython",
    "version": 3
   },
   "file_extension": ".py",
   "mimetype": "text/x-python",
   "name": "python",
   "nbconvert_exporter": "python",
   "pygments_lexer": "ipython3",
   "version": "3.9.13"
  }
 },
 "nbformat": 4,
 "nbformat_minor": 2
}
